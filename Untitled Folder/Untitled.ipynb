{
 "cells": [
  {
   "cell_type": "markdown",
   "metadata": {},
   "source": [
    "### Timorco\n",
    "### Exponential Distribution (epidemiology)"
   ]
  },
  {
   "cell_type": "markdown",
   "metadata": {},
   "source": [
    "* First set the number of hosts and number of virus strains"
   ]
  },
  {
   "cell_type": "code",
   "execution_count": 6,
   "metadata": {},
   "outputs": [],
   "source": [
    "# number of hosts\n",
    "N_H = 2\n",
    "# number of virus strains\n",
    "N_V = 2"
   ]
  },
  {
   "cell_type": "markdown",
   "metadata": {},
   "source": [
    "* Generate probability of mortality for the different type of hosts and strains"
   ]
  },
  {
   "cell_type": "code",
   "execution_count": 74,
   "metadata": {},
   "outputs": [],
   "source": [
    "import random\n",
    "\n",
    "def no_mortality_prob():\n",
    "    return [[random.uniform(0,1) for _ in range(N_V)] for _ in range(N_H)]"
   ]
  },
  {
   "cell_type": "code",
   "execution_count": 84,
   "metadata": {},
   "outputs": [
    {
     "data": {
      "text/plain": [
       "[[0.9639716277484455, 0.3423503593973226],\n",
       " [0.7420257594860861, 0.08172059343997995]]"
      ]
     },
     "execution_count": 84,
     "metadata": {},
     "output_type": "execute_result"
    }
   ],
   "source": [
    "MU_MATRIX = no_mortality_prob()\n",
    "MU_MATRIX\n",
    "\n",
    "BETA = no_mortality_prob()\n",
    "BETA\n",
    "\n",
    "RO = no_mortality_prob()\n",
    "RO\n",
    "\n",
    "GAMMA = no_mortality_prob()\n",
    "GAMMA"
   ]
  },
  {
   "cell_type": "markdown",
   "metadata": {},
   "source": [
    "* compute r_h"
   ]
  },
  {
   "cell_type": "code",
   "execution_count": 85,
   "metadata": {},
   "outputs": [
    {
     "data": {
      "text/plain": [
       "2.8491173658050553"
      ]
     },
     "execution_count": 85,
     "metadata": {},
     "output_type": "execute_result"
    }
   ],
   "source": [
    "R_H = random.uniform(1, 5)\n",
    "R_H"
   ]
  },
  {
   "cell_type": "markdown",
   "metadata": {},
   "source": [
    "* set size of population"
   ]
  },
  {
   "cell_type": "code",
   "execution_count": 86,
   "metadata": {},
   "outputs": [
    {
     "data": {
      "text/plain": [
       "100"
      ]
     },
     "execution_count": 86,
     "metadata": {},
     "output_type": "execute_result"
    }
   ],
   "source": [
    "P_S = 100\n",
    "P_S"
   ]
  },
  {
   "cell_type": "code",
   "execution_count": 91,
   "metadata": {},
   "outputs": [
    {
     "name": "stdout",
     "output_type": "stream",
     "text": [
      "100\n"
     ]
    }
   ],
   "source": [
    "import math\n",
    "C_H = 100\n",
    "print(C_H)\n",
    "\n",
    "def get_exp_m(m, host_index, virus_index):\n",
    "    return math.exp(-m[host_index][virus_index])\n",
    "\n",
    "def get_nh(h_index, v_index, t):\n",
    "    def get_nh_recur(current_t):\n",
    "        if current_t == 0:\n",
    "            return P_S\n",
    "        else:\n",
    "            nh_past_times_exp = get_exp_m(MU_MATRIX, h_index, v_index) * get_nh_recur(current_t - 1)\n",
    "            return R_H * nh_past_times_exp * (1 - (nh_past_times_exp / C_H)) + nh_past_times_exp\n",
    "\n",
    "    if h_index == 0:\n",
    "        return get_nh_recur(t)\n",
    "    else:\n",
    "        return P_S\n",
    "\n",
    "def get_gh(h_i, v_i, t):\n",
    "    nh = get_nh(h_i, v_i, t)\n",
    "    if h_i == 0:\n",
    "        return R_H * get_exp_m(MU_MATRIX, h_i, v_i) * nh * (1 - (get_exp_m(MU_MATRIX, h_i, v_i) * nh)/C_H)\n",
    "    else:\n",
    "        return (1 - get_exp_m(MU_MATRIX, h_i, v_i)) * nh\n",
    "        \n",
    "    "
   ]
  },
  {
   "cell_type": "code",
   "execution_count": 93,
   "metadata": {},
   "outputs": [
    {
     "data": {
      "text/plain": [
       "1.4173679111338156"
      ]
     },
     "execution_count": 93,
     "metadata": {},
     "output_type": "execute_result"
    }
   ],
   "source": [
    "get_gh(1, 0, 10)"
   ]
  },
  {
   "cell_type": "code",
   "execution_count": 94,
   "metadata": {},
   "outputs": [],
   "source": [
    "RH_HISTORY = {}\n",
    "\n",
    "def get_rh(h_i, v_i, t):\n",
    "    if t == 0:\n",
    "        RH_HISTORY[t] = 0\n",
    "        return 0\n",
    "    else:\n",
    "        return RH_HISTORY[t - 1] * \n"
   ]
  },
  {
   "cell_type": "code",
   "execution_count": null,
   "metadata": {},
   "outputs": [],
   "source": []
  }
 ],
 "metadata": {
  "kernelspec": {
   "display_name": "Python 3",
   "language": "python",
   "name": "python3"
  },
  "language_info": {
   "codemirror_mode": {
    "name": "ipython",
    "version": 3
   },
   "file_extension": ".py",
   "mimetype": "text/x-python",
   "name": "python",
   "nbconvert_exporter": "python",
   "pygments_lexer": "ipython3",
   "version": "3.6.4"
  }
 },
 "nbformat": 4,
 "nbformat_minor": 2
}
