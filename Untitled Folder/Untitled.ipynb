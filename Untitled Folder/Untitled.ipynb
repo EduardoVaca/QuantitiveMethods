{
 "cells": [
  {
   "cell_type": "markdown",
   "metadata": {},
   "source": [
    "### Timorco\n",
    "### Exponential Distribution (epidemiology)"
   ]
  },
  {
   "cell_type": "markdown",
   "metadata": {},
   "source": [
    "* First set the number of hosts and number of virus strains"
   ]
  },
  {
   "cell_type": "code",
   "execution_count": 17,
   "metadata": {},
   "outputs": [],
   "source": [
    "# number of hosts\n",
    "N_H = 2\n",
    "# number of virus strains\n",
    "N_V = 2"
   ]
  },
  {
   "cell_type": "markdown",
   "metadata": {},
   "source": [
    "* Generate probability of mortality for the different type of hosts and strains"
   ]
  },
  {
   "cell_type": "code",
   "execution_count": 18,
   "metadata": {},
   "outputs": [],
   "source": [
    "import random\n",
    "\n",
    "def no_mortality_prob():\n",
    "    return [random.uniform(0,1) for _ in range(N_H)]\n",
    "\n",
    "def virus_host_prob():\n",
    "    return [[random.uniform(0,1) for _ in range(N_V)] for _ in range(N_H)]"
   ]
  },
  {
   "cell_type": "code",
   "execution_count": 19,
   "metadata": {},
   "outputs": [],
   "source": [
    "# MU = no_mortality_prob()\n",
    "MU = [0.95, 0.10]\n",
    "\n",
    "# BETA = virus_host_prob()\n",
    "BETA = [[0.6, 0.3], [0.9, 0.05]]\n",
    "# print(BETA)\n",
    "# RO = virus_host_prob()\n",
    "RO = [[0.75, 0.15], [0.95, 0.5]]\n",
    "\n",
    "# GAMMA = virus_host_prob()\n",
    "GAMMA = [[0.90, 0.70], [0.1, 0.4]]\n"
   ]
  },
  {
   "cell_type": "markdown",
   "metadata": {},
   "source": [
    "* compute r_h"
   ]
  },
  {
   "cell_type": "code",
   "execution_count": 20,
   "metadata": {},
   "outputs": [
    {
     "data": {
      "text/plain": [
       "4.144026836671811"
      ]
     },
     "execution_count": 20,
     "metadata": {},
     "output_type": "execute_result"
    }
   ],
   "source": [
    "R_H = random.uniform(1, 5)\n",
    "R_H"
   ]
  },
  {
   "cell_type": "markdown",
   "metadata": {},
   "source": [
    "* set size of population"
   ]
  },
  {
   "cell_type": "code",
   "execution_count": 21,
   "metadata": {},
   "outputs": [
    {
     "data": {
      "text/plain": [
       "300"
      ]
     },
     "execution_count": 21,
     "metadata": {},
     "output_type": "execute_result"
    }
   ],
   "source": [
    "P_S = 300\n",
    "P_S"
   ]
  },
  {
   "cell_type": "code",
   "execution_count": 22,
   "metadata": {},
   "outputs": [
    {
     "name": "stdout",
     "output_type": "stream",
     "text": [
      "356\n"
     ]
    }
   ],
   "source": [
    "import math\n",
    "C_H = random.randint(P_S, P_S + 100)\n",
    "print(C_H)\n",
    "\n",
    "def get_exp_m(m, host_index, virus_index):\n",
    "    return math.exp(-m[host_index][virus_index])\n",
    "\n",
    "def get_nh(h_index, t):\n",
    "    def get_nh_recur(current_t):\n",
    "        if current_t == 0:\n",
    "            return P_S\n",
    "        else:\n",
    "            nh_past_times_exp = math.exp(-MU[h_index]) * get_nh_recur(current_t - 1)\n",
    "            return R_H * nh_past_times_exp * (1 - (nh_past_times_exp / C_H)) + nh_past_times_exp\n",
    "\n",
    "    if h_index == 0:\n",
    "        return get_nh_recur(t)\n",
    "    else:\n",
    "        return P_S\n",
    "\n",
    "def get_gh(h_i, t):\n",
    "    nh = get_nh(h_i, t)\n",
    "    if h_i == 0:\n",
    "        return R_H * math.exp(-MU[h_i]) * nh * (1 - (math.exp(-MU[h_i]) * nh)/C_H)\n",
    "    else:\n",
    "        return (1 - math.exp(-MU[h_i])) * nh\n",
    "        \n",
    "    "
   ]
  },
  {
   "cell_type": "code",
   "execution_count": 23,
   "metadata": {},
   "outputs": [
    {
     "data": {
      "text/plain": [
       "28.548774589212144"
      ]
     },
     "execution_count": 23,
     "metadata": {},
     "output_type": "execute_result"
    }
   ],
   "source": [
    "get_gh(1, 10)"
   ]
  },
  {
   "cell_type": "code",
   "execution_count": 24,
   "metadata": {},
   "outputs": [],
   "source": [
    "PAST_R = [[{} for _ in range(N_V)] for _ in range(N_H)]\n",
    "PAST_I = [[{} for _ in range(N_V)] for _ in range(N_H)]\n",
    "PAST_S = [{} for _ in range(N_H)]\n",
    "\n",
    "\n",
    "def get_s(h_index, t):\n",
    "    ans = PAST_S[h_index].get(t, None)\n",
    "    if ans is not None:\n",
    "        return ans\n",
    "    if t == 0:\n",
    "        PAST_S[h_index][t] = 100\n",
    "        return PAST_S[h_index][t]\n",
    "    else:\n",
    "        past = PAST_S[h_index].get(t-1, None)\n",
    "        if past == None:\n",
    "            PAST_S[h_index][t-1] = get_s(h_index, t-1)\n",
    "            past = PAST_S[h_index][t-1]\n",
    "        PAST_S[h_index][t] = get_gh(h_index, t-1) + math.exp(-MU[h_index]) * math.exp(-sum(BETA[h_index][v_index] * get_i(h_index, v_index, t-1) for v_index in range(N_V))) * past + sum(get_r(h_index, v_index, t-1) * math.exp(-MU[h_index]) * (1 - get_exp_m(RO, h_index, v_index)) for v_index in range(N_V))\n",
    "        return PAST_S[h_index][t]\n",
    "\n",
    "def get_i(h_i, v_i, t):\n",
    "    ans = PAST_I[h_i][v_i].get(t, None)\n",
    "    if ans is not None:\n",
    "        return ans\n",
    "    if t == 0:\n",
    "        PAST_I[h_i][v_i][t] = 100\n",
    "        return 1\n",
    "    else:\n",
    "        past_s = PAST_S[h_i].get(t - 1, None)\n",
    "        if past_s is None:\n",
    "            past_s = get_s(h_i, t - 1)\n",
    "        past_i = PAST_I[h_i][v_i].get(t - 1, None)\n",
    "        if past_i is None:\n",
    "            past_i = get_i(h_i, v_i, t - 1)\n",
    "            PAST_I[h_i][v_i][t - 1] = past_i\n",
    "        PAST_I[h_i][v_i][t] = past_s * math.exp(-MU[h_i]) * (1 - math.exp(-sum(BETA[h_i][v_index] * get_i(h_i, v_index, t-1) for v_index in range(N_V)))) * ((BETA[h_i][v_i] * past_i)/(sum(BETA[h_i][v_index] * get_i(h_i, v_index, t-1) for v_index in range(N_V)))) + past_i * math.exp(-MU[h_i]) * get_exp_m(GAMMA, h_i, v_i)\n",
    "        return PAST_I[h_i][v_i][t]\n",
    "\n",
    "\n",
    "def get_r(h_i, v_i, t):\n",
    "    ans = PAST_R[h_i][v_i].get(t, None)\n",
    "    if ans is not None:\n",
    "        return ans\n",
    "    if t == 0:\n",
    "        PAST_R[h_i][v_i][t] = 100\n",
    "        return 1\n",
    "    else:\n",
    "        past_r = PAST_R[h_i][v_i].get(t-1, None)\n",
    "        if past_r is None:\n",
    "            PAST_R[h_i][v_i][t-1] = get_r(h_i, v_i, t-1)\n",
    "            past_r = PAST_R[h_i][v_i][t-1]\n",
    "        past_i = PAST_I[h_i][v_i].get(t-1, None)\n",
    "        if past_i is None:\n",
    "            past_i = get_i(h_i, v_i, t-1)\n",
    "        PAST_R[h_i][v_i][t] = past_r * math.exp(-MU[h_i]) * get_exp_m(RO, h_i, v_i) + past_i * math.exp(-MU[h_i]) * (1 - get_exp_m(GAMMA, h_i, v_i))\n",
    "        return PAST_R[h_i][v_i][t]"
   ]
  },
  {
   "cell_type": "code",
   "execution_count": 25,
   "metadata": {},
   "outputs": [
    {
     "data": {
      "text/plain": [
       "9.601190565348844"
      ]
     },
     "execution_count": 25,
     "metadata": {},
     "output_type": "execute_result"
    }
   ],
   "source": [
    "get_r(0, 0, 2)"
   ]
  },
  {
   "cell_type": "code",
   "execution_count": 26,
   "metadata": {},
   "outputs": [
    {
     "data": {
      "text/plain": [
       "361.448160741012"
      ]
     },
     "execution_count": 26,
     "metadata": {},
     "output_type": "execute_result"
    }
   ],
   "source": [
    "get_s(0, 3)"
   ]
  },
  {
   "cell_type": "code",
   "execution_count": 27,
   "metadata": {},
   "outputs": [
    {
     "data": {
      "text/plain": [
       "162.94872437840309"
      ]
     },
     "execution_count": 27,
     "metadata": {},
     "output_type": "execute_result"
    }
   ],
   "source": [
    "get_i(0, 0, 10)"
   ]
  },
  {
   "cell_type": "code",
   "execution_count": 28,
   "metadata": {},
   "outputs": [
    {
     "data": {
      "text/plain": [
       "164.2452438325351"
      ]
     },
     "execution_count": 28,
     "metadata": {},
     "output_type": "execute_result"
    }
   ],
   "source": [
    "get_i(0, 0, 50)"
   ]
  },
  {
   "cell_type": "code",
   "execution_count": 29,
   "metadata": {},
   "outputs": [
    {
     "data": {
      "text/plain": [
       "164.2452438367834"
      ]
     },
     "execution_count": 29,
     "metadata": {},
     "output_type": "execute_result"
    }
   ],
   "source": [
    "get_i(0, 0, 101)"
   ]
  },
  {
   "cell_type": "code",
   "execution_count": 30,
   "metadata": {},
   "outputs": [],
   "source": [
    "import matplotlib.pyplot as plt\n",
    "import matplotlib"
   ]
  },
  {
   "cell_type": "code",
   "execution_count": 31,
   "metadata": {},
   "outputs": [
    {
     "data": {
      "text/plain": [
       "[<matplotlib.lines.Line2D at 0x116a90f28>]"
      ]
     },
     "execution_count": 31,
     "metadata": {},
     "output_type": "execute_result"
    },
    {
     "data": {
      "image/png": "[encoded data removed]",
      "text/plain": [
       "<matplotlib.figure.Figure at 0x10d0f6668>"
      ]
     },
     "metadata": {},
     "output_type": "display_data"
    }
   ],
   "source": [
    "plt.plot([get_i(0, 0, x) for x in range(101)])"
   ]
  },
  {
   "cell_type": "code",
   "execution_count": 32,
   "metadata": {},
   "outputs": [
    {
     "data": {
      "text/plain": [
       "<matplotlib.legend.Legend at 0x116c4de48>"
      ]
     },
     "execution_count": 32,
     "metadata": {},
     "output_type": "execute_result"
    },
    {
     "data": {
      "image/png": "[encoded data removed]",
      "text/plain": [
       "<matplotlib.figure.Figure at 0x11668e208>"
      ]
     },
     "metadata": {},
     "output_type": "display_data"
    }
   ],
   "source": [
    "matplotlib.rcParams['figure.figsize'] = [15, 7]\n",
    "plt.plot([get_s(0, x) for x in range(15)], label='s')\n",
    "plt.plot([get_i(0, 0, x) for x in range(15)], label='i')\n",
    "plt.plot([get_r(0, 0, x) for x in range(15)], label='r')\n",
    "plt.legend()"
   ]
  },
  {
   "cell_type": "code",
   "execution_count": null,
   "metadata": {},
   "outputs": [],
   "source": [
    "matplotlib.rcParams['figure.figsize'] = [15, 7]\n",
    "plt.plot([get_s(1, x) for x in range(15)], label='s')\n",
    "plt.plot([get_i(1, 1, x) for x in range(15)], label='i')\n",
    "plt.plot([get_r(1, 0, x) for x in range(15)], label='r')\n",
    "plt.legend()"
   ]
  }
 ],
 "metadata": {
  "kernelspec": {
   "display_name": "Python 3",
   "language": "python",
   "name": "python3"
  },
  "language_info": {
   "codemirror_mode": {
    "name": "ipython",
    "version": 3
   },
   "file_extension": ".py",
   "mimetype": "text/x-python",
   "name": "python",
   "nbconvert_exporter": "python",
   "pygments_lexer": "ipython3",
   "version": "3.6.4"
  }
 },
 "nbformat": 4,
 "nbformat_minor": 2
}
