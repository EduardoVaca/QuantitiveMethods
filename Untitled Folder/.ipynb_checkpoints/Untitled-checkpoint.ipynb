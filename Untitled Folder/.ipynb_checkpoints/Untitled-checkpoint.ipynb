{
 "cells": [
  {
   "cell_type": "markdown",
   "metadata": {},
   "source": [
    "### Timorco\n",
    "### Exponential Distribution (epidemiology)"
   ]
  },
  {
   "cell_type": "markdown",
   "metadata": {},
   "source": [
    "* First set the number of hosts and number of virus strains"
   ]
  },
  {
   "cell_type": "code",
   "execution_count": 59,
   "metadata": {},
   "outputs": [],
   "source": [
    "# number of hosts\n",
    "N_H = 2\n",
    "# number of virus strains\n",
    "N_V = 2"
   ]
  },
  {
   "cell_type": "markdown",
   "metadata": {},
   "source": [
    "* Generate probability of mortality for the different type of hosts and strains"
   ]
  },
  {
   "cell_type": "code",
   "execution_count": 60,
   "metadata": {},
   "outputs": [],
   "source": [
    "import random\n",
    "\n",
    "def no_mortality_prob():\n",
    "    return [random.uniform(0,1) for _ in range(N_H)]\n",
    "\n",
    "def virus_host_prob():\n",
    "    return [[random.uniform(0,1) for _ in range(N_V)] for _ in range(N_H)]"
   ]
  },
  {
   "cell_type": "code",
   "execution_count": 61,
   "metadata": {},
   "outputs": [
    {
     "name": "stdout",
     "output_type": "stream",
     "text": [
      "[[0.43975328114778367, 0.5602380261637445], [0.61039485730559, 0.9165398163854596]]\n",
      "[[0.6437377666424139, 0.8432412105604504], [0.7785226252008449, 0.13485456127454387]]\n",
      "[[0.7069550272498706, 0.49301372231624707], [0.9238531024538507, 0.208651688740634]]\n"
     ]
    }
   ],
   "source": [
    "MU = no_mortality_prob()\n",
    "\n",
    "BETA = virus_host_prob()\n",
    "print(BETA)\n",
    "RO = virus_host_prob()\n",
    "print(RO)\n",
    "\n",
    "GAMMA = virus_host_prob()\n",
    "print(GAMMA)\n"
   ]
  },
  {
   "cell_type": "markdown",
   "metadata": {},
   "source": [
    "* compute r_h"
   ]
  },
  {
   "cell_type": "code",
   "execution_count": 62,
   "metadata": {},
   "outputs": [
    {
     "data": {
      "text/plain": [
       "4.490674494883411"
      ]
     },
     "execution_count": 62,
     "metadata": {},
     "output_type": "execute_result"
    }
   ],
   "source": [
    "R_H = random.uniform(1, 5)\n",
    "R_H"
   ]
  },
  {
   "cell_type": "markdown",
   "metadata": {},
   "source": [
    "* set size of population"
   ]
  },
  {
   "cell_type": "code",
   "execution_count": 63,
   "metadata": {},
   "outputs": [
    {
     "data": {
      "text/plain": [
       "100"
      ]
     },
     "execution_count": 63,
     "metadata": {},
     "output_type": "execute_result"
    }
   ],
   "source": [
    "P_S = 100\n",
    "P_S"
   ]
  },
  {
   "cell_type": "code",
   "execution_count": 64,
   "metadata": {},
   "outputs": [
    {
     "name": "stdout",
     "output_type": "stream",
     "text": [
      "197\n"
     ]
    }
   ],
   "source": [
    "import math\n",
    "C_H = random.randint(P_S, P_S + 100)\n",
    "print(C_H)\n",
    "\n",
    "def get_exp_m(m, host_index, virus_index):\n",
    "    return math.exp(-m[host_index][virus_index])\n",
    "\n",
    "def get_nh(h_index, t):\n",
    "    def get_nh_recur(current_t):\n",
    "        if current_t == 0:\n",
    "            return P_S\n",
    "        else:\n",
    "            nh_past_times_exp = math.exp(-MU[h_index]) * get_nh_recur(current_t - 1)\n",
    "            return R_H * nh_past_times_exp * (1 - (nh_past_times_exp / C_H)) + nh_past_times_exp\n",
    "\n",
    "    if h_index == 0:\n",
    "        return get_nh_recur(t)\n",
    "    else:\n",
    "        return P_S\n",
    "\n",
    "def get_gh(h_i, t):\n",
    "    nh = get_nh(h_i, t)\n",
    "    if h_i == 0:\n",
    "        return R_H * math.exp(-MU[h_i]) * nh * (1 - (math.exp(-MU[h_i]) * nh)/C_H)\n",
    "    else:\n",
    "        return (1 - math.exp(-MU[h_i])) * nh\n",
    "        \n",
    "    "
   ]
  },
  {
   "cell_type": "code",
   "execution_count": 65,
   "metadata": {},
   "outputs": [
    {
     "data": {
      "text/plain": [
       "15.714090872409137"
      ]
     },
     "execution_count": 65,
     "metadata": {},
     "output_type": "execute_result"
    }
   ],
   "source": [
    "get_gh(1, 10)"
   ]
  },
  {
   "cell_type": "code",
   "execution_count": 66,
   "metadata": {},
   "outputs": [],
   "source": [
    "PAST_R = [[{} for _ in range(N_V)] for _ in range(N_H)]\n",
    "PAST_I = [[{} for _ in range(N_V)] for _ in range(N_H)]\n",
    "PAST_S = [{} for _ in range(N_H)]\n",
    "\n",
    "\n",
    "def get_s(h_index, t):\n",
    "    if t == 0:\n",
    "        PAST_S[h_index][t] = P_S - 2\n",
    "        return PAST_S[h_index][t]\n",
    "    else:\n",
    "        past = PAST_S[h_index].get(t-1, None)\n",
    "        if past == None:\n",
    "            PAST_S[h_index][t-1] = get_s(h_index\n",
    "                                         \n",
    "                                         , t-1)\n",
    "            past = PAST_S[h_index][t-1]\n",
    "        PAST_S[h_index][t] = get_gh(h_index, t) + math.exp(-MU[h_index]) * math.exp(-sum(BETA[h_index][v_index] * get_i(h_index, v_index, t-1) for v_index in range(N_V))) * past + sum(get_r(h_index, v_index, t-1) * math.exp(-MU[h_index]) * (1 - get_exp_m(RO, h_index, v_index)) for v_index in range(N_V))\n",
    "        return PAST_S[h_index][t]\n",
    "\n",
    "def get_i(h_i, v_i, t):\n",
    "    if t == 0:\n",
    "        PAST_I[h_i][v_i][t] = 1\n",
    "        return 1\n",
    "    else:\n",
    "        past_s = PAST_S[h_i].get(t - 1, None)\n",
    "        if past_s is None:\n",
    "            past_s = get_s(h_i, t - 1)\n",
    "        past_i = PAST_I[h_i][v_i].get(t - 1, None)\n",
    "        if past_i is None:\n",
    "            past_i = get_i(h_i, v_i, t - 1)\n",
    "            PAST_I[h_i][v_i][t - 1] = past_i\n",
    "        PAST_I[h_i][v_i][t] = past_s * math.exp(-MU[h_i]) * (1 - math.exp(-sum(BETA[h_i][v_index] * get_i(h_i, v_index, t-1) for v_index in range(N_V)))) * ((BETA[h_i][v_i] * past_i)/(sum(BETA[h_i][v_index] * get_i(h_i, v_index, t-1) for v_index in range(N_V)))) + past_i * math.exp(-MU[h_i]) * get_exp_m(GAMMA, h_i, v_i)\n",
    "        return PAST_I[h_i][v_i][t]\n",
    "\n",
    "\n",
    "def get_r(h_i, v_i, t):\n",
    "    if t == 0:\n",
    "        PAST_R[h_i][v_i][t] = 1\n",
    "        return 1\n",
    "    else:\n",
    "        past_r = PAST_R[h_i][v_i].get(t-1, None)\n",
    "        if past_r is None:\n",
    "            PAST_R[h_i][v_i][t-1] = get_r(h_i, v_i, t-1)\n",
    "            past_r = PAST_R[h_i][v_i][t-1]\n",
    "        past_i = PAST_I[h_i][v_i].get(t-1, None)\n",
    "        if past_i is None:\n",
    "            past_i = get_i(h_i, v_i, t-1)\n",
    "        PAST_R[h_i][v_i][t] = past_r * math.exp(-MU[h_i]) * get_exp_m(RO, h_i, v_i) + past_i * math.exp(-MU[h_i]) * (1 - get_exp_m(GAMMA, h_i, v_i))\n",
    "        return PAST_R[h_i][v_i][t]"
   ]
  },
  {
   "cell_type": "code",
   "execution_count": 67,
   "metadata": {},
   "outputs": [
    {
     "data": {
      "text/plain": [
       "2.9410188620587636"
      ]
     },
     "execution_count": 67,
     "metadata": {},
     "output_type": "execute_result"
    }
   ],
   "source": [
    "get_r(0, 0, 2)"
   ]
  },
  {
   "cell_type": "code",
   "execution_count": 71,
   "metadata": {},
   "outputs": [
    {
     "data": {
      "text/plain": [
       "173.43955315113314"
      ]
     },
     "execution_count": 71,
     "metadata": {},
     "output_type": "execute_result"
    }
   ],
   "source": [
    "get_s(0, 3)"
   ]
  },
  {
   "cell_type": "code",
   "execution_count": 73,
   "metadata": {},
   "outputs": [
    {
     "data": {
      "text/plain": [
       "9.633275503179565"
      ]
     },
     "execution_count": 73,
     "metadata": {},
     "output_type": "execute_result"
    }
   ],
   "source": [
    "get_i(0, 0, 10)"
   ]
  },
  {
   "cell_type": "code",
   "execution_count": null,
   "metadata": {},
   "outputs": [],
   "source": [
    "get_i(0, 0, 100)"
   ]
  },
  {
   "cell_type": "code",
   "execution_count": null,
   "metadata": {},
   "outputs": [],
   "source": []
  },
  {
   "cell_type": "code",
   "execution_count": null,
   "metadata": {},
   "outputs": [],
   "source": []
  }
 ],
 "metadata": {
  "kernelspec": {
   "display_name": "Python 3",
   "language": "python",
   "name": "python3"
  },
  "language_info": {
   "codemirror_mode": {
    "name": "ipython",
    "version": 3
   },
   "file_extension": ".py",
   "mimetype": "text/x-python",
   "name": "python",
   "nbconvert_exporter": "python",
   "pygments_lexer": "ipython3",
   "version": "3.6.4"
  }
 },
 "nbformat": 4,
 "nbformat_minor": 2
}
